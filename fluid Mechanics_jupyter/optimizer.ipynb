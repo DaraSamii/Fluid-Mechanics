{
 "cells": [
  {
   "cell_type": "code",
   "execution_count": 24,
   "metadata": {},
   "outputs": [],
   "source": [
    "import math\n",
    "import sympy as sym\n",
    "import numpy as np\n",
    "import pandas as pd\n",
    "import matplotlib.pyplot as plt\n",
    "%matplotlib inline"
   ]
  },
  {
   "cell_type": "code",
   "execution_count": 99,
   "metadata": {},
   "outputs": [],
   "source": [
    "h = sym.Symbol('h') # heigth\n",
    "r = sym.Symbol('r') # Radius\n",
    "pi = sym.Symbol('pi') # pi number = 3.14\n",
    "v = sym.Symbol('v') # volume\n",
    "b = sym.Symbol('b')\n",
    "g = sym.Symbol('g')"
   ]
  },
  {
   "cell_type": "code",
   "execution_count": 83,
   "metadata": {},
   "outputs": [
    {
     "data": {
      "text/latex": [
       "$\\displaystyle h \\pi r^{2}$"
      ],
      "text/plain": [
       "h*pi*r**2"
      ]
     },
     "execution_count": 83,
     "metadata": {},
     "output_type": "execute_result"
    }
   ],
   "source": [
    "# volume formule for Cylinders tank\n",
    "\n",
    "Cyl_V = pi * (r ** 2) * h\n",
    "Cyl_V"
   ]
  },
  {
   "cell_type": "code",
   "execution_count": 118,
   "metadata": {},
   "outputs": [
    {
     "data": {
      "text/latex": [
       "$\\displaystyle 158970.24313842$"
      ],
      "text/plain": [
       "158970.243138420"
      ]
     },
     "execution_count": 118,
     "metadata": {},
     "output_type": "execute_result"
    }
   ],
   "source": [
    "Cyl_V.subs(pi,math.pi).subs(h,20).subs(r,50.3)"
   ]
  },
  {
   "cell_type": "code",
   "execution_count": 84,
   "metadata": {},
   "outputs": [
    {
     "data": {
      "text/latex": [
       "$\\displaystyle 2 h \\pi r + 2 \\pi r^{2}$"
      ],
      "text/plain": [
       "2*h*pi*r + 2*pi*r**2"
      ]
     },
     "execution_count": 84,
     "metadata": {},
     "output_type": "execute_result"
    }
   ],
   "source": [
    "# Area forlmula for Cylinders tank\n",
    "\n",
    "Area_Floor = pi * (r ** 2)\n",
    "Area_Ceil  = pi * (r ** 2)\n",
    "Area_Wall = pi * 2 * r * h\n",
    "\n",
    "Area_total = Area_Floor + Area_Ceil + Area_Wall\n",
    "Area_total"
   ]
  },
  {
   "cell_type": "code",
   "execution_count": 85,
   "metadata": {},
   "outputs": [
    {
     "name": "stdout",
     "output_type": "stream",
     "text": [
      "target volume is 158987.0 \n"
     ]
    }
   ],
   "source": [
    "#our targer is 1 milion barrel oil tank\n",
    "\n",
    "#converting 1 milion barrel oil to cubic meter\n",
    "\n",
    "# 1 barrel oil = 158.987 L\n",
    "# 1000 L = 1 m^3\n",
    "\n",
    "target_v = (10 ** 6) * 158.987 * (10**-3) \n",
    "\n",
    "print('target volume is {} '.format(target_v))"
   ]
  },
  {
   "cell_type": "code",
   "execution_count": 100,
   "metadata": {},
   "outputs": [
    {
     "data": {
      "text/latex": [
       "$\\displaystyle b g h \\pi r^{2}$"
      ],
      "text/plain": [
       "b*g*h*pi*r**2"
      ]
     },
     "execution_count": 100,
     "metadata": {},
     "output_type": "execute_result"
    }
   ],
   "source": [
    "Force_floor = b * g * h * Area_Floor\n",
    "Force_floor"
   ]
  },
  {
   "cell_type": "code",
   "execution_count": 101,
   "metadata": {},
   "outputs": [
    {
     "data": {
      "text/latex": [
       "$\\displaystyle b g h^{2} \\pi r$"
      ],
      "text/plain": [
       "b*g*h**2*pi*r"
      ]
     },
     "execution_count": 101,
     "metadata": {},
     "output_type": "execute_result"
    }
   ],
   "source": [
    "Force_wall  = (b * g * h)/2 * h * 2 * pi * r\n",
    "Force_wall"
   ]
  },
  {
   "cell_type": "code",
   "execution_count": 102,
   "metadata": {},
   "outputs": [
    {
     "data": {
      "text/latex": [
       "$\\displaystyle b g h^{2} \\pi r + b g h \\pi r^{2}$"
      ],
      "text/plain": [
       "b*g*h**2*pi*r + b*g*h*pi*r**2"
      ]
     },
     "execution_count": 102,
     "metadata": {},
     "output_type": "execute_result"
    }
   ],
   "source": [
    "total_force = Force_wall + Force_floor\n",
    "total_force"
   ]
  },
  {
   "cell_type": "code",
   "execution_count": 29,
   "metadata": {},
   "outputs": [
    {
     "data": {
      "text/latex": [
       "$\\displaystyle \\frac{v}{\\pi r^{2}}$"
      ],
      "text/plain": [
       "v/(pi*r**2)"
      ]
     },
     "execution_count": 29,
     "metadata": {},
     "output_type": "execute_result"
    }
   ],
   "source": [
    "# definig h according to v and r \n",
    "\n",
    "h_v_r = v/(pi * (r ** 2))\n",
    "h_v_r"
   ]
  },
  {
   "cell_type": "code",
   "execution_count": 103,
   "metadata": {},
   "outputs": [
    {
     "data": {
      "text/latex": [
       "$\\displaystyle b g v + \\frac{b g v^{2}}{\\pi r^{3}}$"
      ],
      "text/plain": [
       "b*g*v + b*g*v**2/(pi*r**3)"
      ]
     },
     "execution_count": 103,
     "metadata": {},
     "output_type": "execute_result"
    }
   ],
   "source": [
    "t_force_r = total_force.subs(h, h_v_r)\n",
    "t_force_r"
   ]
  },
  {
   "cell_type": "code",
   "execution_count": 104,
   "metadata": {},
   "outputs": [
    {
     "data": {
      "text/latex": [
       "$\\displaystyle - \\frac{3 b g v^{2}}{\\pi r^{4}}$"
      ],
      "text/plain": [
       "-3*b*g*v**2/(pi*r**4)"
      ]
     },
     "execution_count": 104,
     "metadata": {},
     "output_type": "execute_result"
    }
   ],
   "source": [
    "dFdr = sym.diff(Force_wall.subs(h,h_v_r),r)\n",
    "dFdr"
   ]
  },
  {
   "cell_type": "code",
   "execution_count": 97,
   "metadata": {},
   "outputs": [
    {
     "data": {
      "text/latex": [
       "$\\displaystyle \\emptyset$"
      ],
      "text/plain": [
       "EmptySet()"
      ]
     },
     "execution_count": 97,
     "metadata": {},
     "output_type": "execute_result"
    }
   ],
   "source": [
    "sym.solveset(dFdr.subs(g,9.8).subs(v,target_v).subs(b,1).subs(pi, math.pi))"
   ]
  },
  {
   "cell_type": "code",
   "execution_count": 31,
   "metadata": {},
   "outputs": [
    {
     "data": {
      "text/latex": [
       "$\\displaystyle 2 \\pi r^{2} + \\frac{2 v}{r}$"
      ],
      "text/plain": [
       "2*pi*r**2 + 2*v/r"
      ]
     },
     "execution_count": 31,
     "metadata": {},
     "output_type": "execute_result"
    }
   ],
   "source": [
    "# Area accorind to v and r\n",
    "\n",
    "A_v_r = Area_total.subs(h, h_v_r)\n",
    "A_v_r"
   ]
  },
  {
   "cell_type": "code",
   "execution_count": null,
   "metadata": {},
   "outputs": [],
   "source": []
  },
  {
   "cell_type": "code",
   "execution_count": 33,
   "metadata": {},
   "outputs": [
    {
     "data": {
      "text/latex": [
       "$\\displaystyle 4 \\pi r - \\frac{2 v}{r^{2}}$"
      ],
      "text/plain": [
       "4*pi*r - 2*v/r**2"
      ]
     },
     "execution_count": 33,
     "metadata": {},
     "output_type": "execute_result"
    }
   ],
   "source": [
    "# drevitive A according to r\n",
    "\n",
    "dAdr = sym.diff(A_v_r, r)\n",
    "dAdr"
   ]
  },
  {
   "cell_type": "code",
   "execution_count": 58,
   "metadata": {},
   "outputs": [
    {
     "data": {
      "text/latex": [
       "$\\displaystyle 29.3580529015881$"
      ],
      "text/plain": [
       "29.3580529015881"
      ]
     },
     "execution_count": 58,
     "metadata": {},
     "output_type": "execute_result"
    }
   ],
   "source": [
    "# finding the best r for minimum Area\n",
    "# R = best R\n",
    "l = list(sym.solveset(dAdr.subs(v, target_v).subs(pi,math.pi), r))\n",
    "R = l[0]\n",
    "R"
   ]
  },
  {
   "cell_type": "code",
   "execution_count": 80,
   "metadata": {},
   "outputs": [
    {
     "data": {
      "text/latex": [
       "$\\displaystyle 58.7161058031762$"
      ],
      "text/plain": [
       "58.7161058031762"
      ]
     },
     "execution_count": 80,
     "metadata": {},
     "output_type": "execute_result"
    }
   ],
   "source": [
    "H = h_v_r.subs(r,R).subs(v, target_v).subs(pi, math.pi)\n",
    "H"
   ]
  },
  {
   "cell_type": "code",
   "execution_count": 119,
   "metadata": {},
   "outputs": [],
   "source": [
    "# ploting Area and heigh according to r\n",
    "Rs = np.linspace(10, 2.5*float(R), 500)\n",
    "df = pd.DataFrame({'r':Rs})\n",
    "df['h'] = df['r'].apply(lambda x: h_v_r.subs(r,x).subs(v, target_v).subs(pi, math.pi))\n",
    "df['A_t'] = df['r'].apply(lambda x: A_v_r.subs(r,x).subs(v, target_v).subs(pi, math.pi))\n"
   ]
  },
  {
   "cell_type": "code",
   "execution_count": 120,
   "metadata": {},
   "outputs": [
    {
     "data": {
      "text/plain": [
       "<matplotlib.collections.PathCollection at 0x17a2bc90>"
      ]
     },
     "execution_count": 120,
     "metadata": {},
     "output_type": "execute_result"
    },
    {
     "data": {
      "image/png": "[encoded data removed]",
      "text/plain": [
       "<Figure size 720x720 with 2 Axes>"
      ]
     },
     "metadata": {
      "needs_background": "light"
     },
     "output_type": "display_data"
    }
   ],
   "source": [
    "fig,(ax1,ax2) = plt.subplots(2,1,sharex=True,figsize=(10,10))\n",
    "\n",
    "ax1.set_title('Area according to r')\n",
    "ax1.scatter(df['r'], df['A_t'])\n",
    "\n",
    "ax2.set_title('heigh according to r')\n",
    "ax2.scatter(df['r'], df['h'])"
   ]
  },
  {
   "cell_type": "code",
   "execution_count": null,
   "metadata": {},
   "outputs": [],
   "source": []
  }
 ],
 "metadata": {
  "kernelspec": {
   "display_name": "Python 3",
   "language": "python",
   "name": "python3"
  },
  "language_info": {
   "codemirror_mode": {
    "name": "ipython",
    "version": 3
   },
   "file_extension": ".py",
   "mimetype": "text/x-python",
   "name": "python",
   "nbconvert_exporter": "python",
   "pygments_lexer": "ipython3",
   "version": "3.7.3"
  }
 },
 "nbformat": 4,
 "nbformat_minor": 2
}

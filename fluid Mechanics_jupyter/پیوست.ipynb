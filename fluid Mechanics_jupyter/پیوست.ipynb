{
 "cells": [
  {
   "cell_type": "code",
   "execution_count": 1,
   "metadata": {},
   "outputs": [],
   "source": [
    "# این بخش پکیج هایی که از آن ها استفاده می کنیم را وارد می کنیم\n",
    "\n",
    "import math\n",
    "import pandas as pd\n",
    "import numpy as np\n",
    "import matplotlib.pyplot as plt\n",
    "%matplotlib inline\n"
   ]
  },
  {
   "cell_type": "code",
   "execution_count": 2,
   "metadata": {},
   "outputs": [
    {
     "name": "stdout",
     "output_type": "stream",
     "text": [
      "Q = 0.005556 m^3/s\n"
     ]
    }
   ],
   "source": [
    "# دبی لازم را که بیست متر مکعب در روز است را به سیستم استاندارد تبدیل می کنیم\n",
    "# \n",
    "Q = 20 / ( 60 * 60)\n",
    "print('Q = {} m^3/s'.format(round(Q,6)))\n"
   ]
  },
  {
   "cell_type": "code",
   "execution_count": 3,
   "metadata": {},
   "outputs": [],
   "source": [
    "# تابعی تعریف می کنیم که بر اساس دبی و سرعت جریان قطر لوله را به ما برمی گرداند\n",
    "\n",
    "# Q : دبی سیال\n",
    "# U : سرعت سیال\n",
    "\n",
    "def diameter(Q, U):\n",
    "    return math.sqrt((4 * Q) / (math.pi * U))\n"
   ]
  },
  {
   "cell_type": "code",
   "execution_count": 4,
   "metadata": {},
   "outputs": [],
   "source": [
    "# حال تابعی می نویسیم که عدد رینولز را به ما بدهد\n",
    "\n",
    "# ro : جرم حجمی\n",
    "# U : سرعت سیال\n",
    "# miu : ویسکوزیته سیال\n",
    "# D :  قطر لوله\n",
    "\n",
    "def Reynolds(ro, U, miu, D):\n",
    "    return (ro * U * D) / miu\n"
   ]
  },
  {
   "cell_type": "code",
   "execution_count": 5,
   "metadata": {},
   "outputs": [],
   "source": [
    "# تابعی می نویسیم که بر اساس زبری قطر لوله و عدد رینولز ضریب اصطکاک را حساب کند\n",
    "# برای جریان های آرام از رابطه دارسی و برای جریان های ناآرام از رابطه فون کارمن استفاده می کنیم\n",
    "\n",
    "def friction_factor(Re, e, D):\n",
    "    rel_e = e/D\n",
    "    if Re <=2100:\n",
    "        return (64 / Re)\n",
    "    \n",
    "    elif Re > 2100:\n",
    "        x = -2.0 * math.log(rel_e / 3.7, 10)\n",
    "        return 1/(x**2)\n"
   ]
  },
  {
   "cell_type": "code",
   "execution_count": 6,
   "metadata": {},
   "outputs": [],
   "source": [
    "# با استفاده از ضریب اصطکاک، طول خط لوله، قطر لوله، سرعت سیال و مجموع ضریاب تلفات هد تلفات کل را تعیین می کنیم\n",
    "\n",
    "def Pressure_Loss(f, L, D, U , K):\n",
    "    g = 9.81\n",
    "    return ((U ** 2) / (2 * g)) * ( ((f * L) / D) + K )\n"
   ]
  },
  {
   "cell_type": "code",
   "execution_count": 7,
   "metadata": {},
   "outputs": [],
   "source": [
    "# ثوابت از جمله جرم حجمی، ویسکوزیته آب و زبری لوله را تعریف می کنیم\n",
    "\n",
    "ro  = 970                 # kg/m^3\n",
    "miu = 0.001               # Pa.s\n",
    "e   = 0.0015 * (10**-3)   # 0.000 000 15 m\n",
    "L   = 901                 # m\n",
    "sum_K = 6 * 0.45\n"
   ]
  },
  {
   "cell_type": "code",
   "execution_count": 8,
   "metadata": {},
   "outputs": [],
   "source": [
    "\n",
    "data = np.linspace(1,3,200)\n",
    "df = pd.DataFrame({'U (m/s)' : data})"
   ]
  },
  {
   "cell_type": "code",
   "execution_count": 9,
   "metadata": {},
   "outputs": [],
   "source": [
    "\n",
    "df['D (m)'] = df.apply(lambda x: diameter(Q, x['U (m/s)']), axis = 1)"
   ]
  },
  {
   "cell_type": "code",
   "execution_count": 10,
   "metadata": {},
   "outputs": [],
   "source": [
    "\n",
    "df['Reynolds'] = df.apply(lambda x: Reynolds(ro, x['U (m/s)'], miu, x['D (m)']), axis = 1)"
   ]
  },
  {
   "cell_type": "code",
   "execution_count": 11,
   "metadata": {},
   "outputs": [],
   "source": [
    "\n",
    "df['f'] = df.apply(lambda x: friction_factor(x['Reynolds'], e, x['D (m)']), axis = 1)"
   ]
  },
  {
   "cell_type": "code",
   "execution_count": 12,
   "metadata": {},
   "outputs": [],
   "source": [
    "\n",
    "df['Pressure_Loss (m)'] = df.apply(lambda x: Pressure_Loss(x['f'], L, x['D (m)'], x['U (m/s)'], sum_K), axis = 1)"
   ]
  },
  {
   "cell_type": "code",
   "execution_count": 13,
   "metadata": {},
   "outputs": [
    {
     "data": {
      "text/html": [
       "<div>\n",
       "<style scoped>\n",
       "    .dataframe tbody tr th:only-of-type {\n",
       "        vertical-align: middle;\n",
       "    }\n",
       "\n",
       "    .dataframe tbody tr th {\n",
       "        vertical-align: top;\n",
       "    }\n",
       "\n",
       "    .dataframe thead th {\n",
       "        text-align: right;\n",
       "    }\n",
       "</style>\n",
       "<table border=\"1\" class=\"dataframe\">\n",
       "  <thead>\n",
       "    <tr style=\"text-align: right;\">\n",
       "      <th></th>\n",
       "      <th>U (m/s)</th>\n",
       "      <th>D (m)</th>\n",
       "      <th>Reynolds</th>\n",
       "      <th>f</th>\n",
       "      <th>Pressure_Loss (m)</th>\n",
       "    </tr>\n",
       "  </thead>\n",
       "  <tbody>\n",
       "    <tr>\n",
       "      <th>0</th>\n",
       "      <td>1.000000</td>\n",
       "      <td>0.084104</td>\n",
       "      <td>81581.284879</td>\n",
       "      <td>0.008843</td>\n",
       "      <td>5.119164</td>\n",
       "    </tr>\n",
       "    <tr>\n",
       "      <th>1</th>\n",
       "      <td>1.010050</td>\n",
       "      <td>0.083685</td>\n",
       "      <td>81990.216187</td>\n",
       "      <td>0.008851</td>\n",
       "      <td>5.251318</td>\n",
       "    </tr>\n",
       "    <tr>\n",
       "      <th>2</th>\n",
       "      <td>1.020101</td>\n",
       "      <td>0.083272</td>\n",
       "      <td>82397.118022</td>\n",
       "      <td>0.008858</td>\n",
       "      <td>5.385536</td>\n",
       "    </tr>\n",
       "    <tr>\n",
       "      <th>3</th>\n",
       "      <td>1.030151</td>\n",
       "      <td>0.082864</td>\n",
       "      <td>82802.020304</td>\n",
       "      <td>0.008865</td>\n",
       "      <td>5.521829</td>\n",
       "    </tr>\n",
       "    <tr>\n",
       "      <th>4</th>\n",
       "      <td>1.040201</td>\n",
       "      <td>0.082463</td>\n",
       "      <td>83204.952222</td>\n",
       "      <td>0.008872</td>\n",
       "      <td>5.660209</td>\n",
       "    </tr>\n",
       "    <tr>\n",
       "      <th>5</th>\n",
       "      <td>1.050251</td>\n",
       "      <td>0.082068</td>\n",
       "      <td>83605.942267</td>\n",
       "      <td>0.008879</td>\n",
       "      <td>5.800687</td>\n",
       "    </tr>\n",
       "    <tr>\n",
       "      <th>6</th>\n",
       "      <td>1.060302</td>\n",
       "      <td>0.081678</td>\n",
       "      <td>84005.018244</td>\n",
       "      <td>0.008886</td>\n",
       "      <td>5.943276</td>\n",
       "    </tr>\n",
       "    <tr>\n",
       "      <th>7</th>\n",
       "      <td>1.070352</td>\n",
       "      <td>0.081293</td>\n",
       "      <td>84402.207306</td>\n",
       "      <td>0.008893</td>\n",
       "      <td>6.087985</td>\n",
       "    </tr>\n",
       "    <tr>\n",
       "      <th>8</th>\n",
       "      <td>1.080402</td>\n",
       "      <td>0.080914</td>\n",
       "      <td>84797.535968</td>\n",
       "      <td>0.008900</td>\n",
       "      <td>6.234828</td>\n",
       "    </tr>\n",
       "    <tr>\n",
       "      <th>9</th>\n",
       "      <td>1.090452</td>\n",
       "      <td>0.080541</td>\n",
       "      <td>85191.030127</td>\n",
       "      <td>0.008906</td>\n",
       "      <td>6.383814</td>\n",
       "    </tr>\n",
       "  </tbody>\n",
       "</table>\n",
       "</div>"
      ],
      "text/plain": [
       "    U (m/s)     D (m)      Reynolds         f  Pressure_Loss (m)\n",
       "0  1.000000  0.084104  81581.284879  0.008843           5.119164\n",
       "1  1.010050  0.083685  81990.216187  0.008851           5.251318\n",
       "2  1.020101  0.083272  82397.118022  0.008858           5.385536\n",
       "3  1.030151  0.082864  82802.020304  0.008865           5.521829\n",
       "4  1.040201  0.082463  83204.952222  0.008872           5.660209\n",
       "5  1.050251  0.082068  83605.942267  0.008879           5.800687\n",
       "6  1.060302  0.081678  84005.018244  0.008886           5.943276\n",
       "7  1.070352  0.081293  84402.207306  0.008893           6.087985\n",
       "8  1.080402  0.080914  84797.535968  0.008900           6.234828\n",
       "9  1.090452  0.080541  85191.030127  0.008906           6.383814"
      ]
     },
     "execution_count": 13,
     "metadata": {},
     "output_type": "execute_result"
    }
   ],
   "source": [
    "df.head(10)"
   ]
  },
  {
   "cell_type": "code",
   "execution_count": 14,
   "metadata": {},
   "outputs": [
    {
     "data": {
      "text/plain": [
       "<matplotlib.collections.PathCollection at 0x11505c10>"
      ]
     },
     "execution_count": 14,
     "metadata": {},
     "output_type": "execute_result"
    },
    {
     "data": {
      "image/png": "[encoded data removed]",
      "text/plain": [
       "<Figure size 1080x504 with 1 Axes>"
      ]
     },
     "metadata": {
      "needs_background": "light"
     },
     "output_type": "display_data"
    }
   ],
   "source": [
    "plt.figure(figsize = (15, 7))\n",
    "plt.xlabel('U (m/s)', {'fontsize':15})\n",
    "plt.ylabel('D (m)', {'fontsize':16})\n",
    "plt.title('Diameter according to Velocity', {'fontsize':20})\n",
    "plt.scatter(df['U (m/s)'],df['D (m)'])"
   ]
  },
  {
   "cell_type": "code",
   "execution_count": 15,
   "metadata": {},
   "outputs": [
    {
     "data": {
      "text/plain": [
       "<matplotlib.collections.PathCollection at 0x117b2750>"
      ]
     },
     "execution_count": 15,
     "metadata": {},
     "output_type": "execute_result"
    },
    {
     "data": {
      "image/png": "[encoded data removed]",
      "text/plain": [
       "<Figure size 1080x504 with 1 Axes>"
      ]
     },
     "metadata": {
      "needs_background": "light"
     },
     "output_type": "display_data"
    }
   ],
   "source": [
    "plt.figure(figsize = (15, 7))\n",
    "plt.xlabel('U (m/s)' ,{'fontsize':15})\n",
    "plt.ylabel('Reynolds' ,{'fontsize':15})\n",
    "plt.title('Reynolds according to Velocity', {'fontsize':20})\n",
    "plt.scatter(df['U (m/s)'],df['Reynolds'])"
   ]
  },
  {
   "cell_type": "code",
   "execution_count": 16,
   "metadata": {},
   "outputs": [
    {
     "data": {
      "text/plain": [
       "<matplotlib.collections.PathCollection at 0x119a0550>"
      ]
     },
     "execution_count": 16,
     "metadata": {},
     "output_type": "execute_result"
    },
    {
     "data": {
      "image/png": "[encoded data removed]",
      "text/plain": [
       "<Figure size 1080x504 with 1 Axes>"
      ]
     },
     "metadata": {
      "needs_background": "light"
     },
     "output_type": "display_data"
    }
   ],
   "source": [
    "plt.figure(figsize = (15, 7))\n",
    "plt.xlabel('U (m/s)',{'fontsize':15})\n",
    "plt.ylabel('f' ,{'fontsize':15})\n",
    "plt.title('friction factor according to Velocity', {'fontsize':20})\n",
    "plt.scatter(df['U (m/s)'],df['f'])"
   ]
  },
  {
   "cell_type": "code",
   "execution_count": 17,
   "metadata": {},
   "outputs": [
    {
     "data": {
      "text/plain": [
       "<matplotlib.collections.PathCollection at 0x117979b0>"
      ]
     },
     "execution_count": 17,
     "metadata": {},
     "output_type": "execute_result"
    },
    {
     "data": {
      "image/png": "[encoded data removed]",
      "text/plain": [
       "<Figure size 1080x504 with 1 Axes>"
      ]
     },
     "metadata": {
      "needs_background": "light"
     },
     "output_type": "display_data"
    }
   ],
   "source": [
    "plt.figure(figsize = (15, 7))\n",
    "plt.xlabel('U (m/s)',{'fontsize':15})\n",
    "plt.ylabel('lost head (m)' ,{'fontsize':15})\n",
    "plt.title('lost head according to Velocity', {'fontsize':20})\n",
    "plt.scatter(df['U (m/s)'],df['Pressure_Loss (m)'])"
   ]
  }
 ],
 "metadata": {
  "kernelspec": {
   "display_name": "Python 3",
   "language": "python",
   "name": "python3"
  },
  "language_info": {
   "codemirror_mode": {
    "name": "ipython",
    "version": 3
   },
   "file_extension": ".py",
   "mimetype": "text/x-python",
   "name": "python",
   "nbconvert_exporter": "python",
   "pygments_lexer": "ipython3",
   "version": "3.7.3"
  }
 },
 "nbformat": 4,
 "nbformat_minor": 2
}

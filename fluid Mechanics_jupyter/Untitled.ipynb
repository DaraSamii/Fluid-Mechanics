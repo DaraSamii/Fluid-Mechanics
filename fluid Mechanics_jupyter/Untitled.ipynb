{
 "cells": [
  {
   "cell_type": "code",
   "execution_count": 26,
   "metadata": {},
   "outputs": [],
   "source": [
    "import sympy as sym"
   ]
  },
  {
   "cell_type": "code",
   "execution_count": 27,
   "metadata": {},
   "outputs": [],
   "source": [
    "u = sym.Symbol('u')\n",
    "g = sym.Symbol('g')\n",
    "Vi = sym.Symbol('Vi')\n",
    "r = sym.Symbol('r')\n",
    "pi = sym.Symbol('pi')\n",
    "T = sym.Symbol('T')\n",
    "S = sym.Symbol('S')"
   ]
  },
  {
   "cell_type": "code",
   "execution_count": 28,
   "metadata": {},
   "outputs": [
    {
     "data": {
      "text/latex": [
       "$\\displaystyle \\frac{Vi}{\\pi r^{2}}$"
      ],
      "text/plain": [
       "Vi/(pi*r**2)"
      ]
     },
     "execution_count": 28,
     "metadata": {},
     "output_type": "execute_result"
    }
   ],
   "source": [
    "h = Vi / ( pi * (r ** 2) ) \n",
    "h"
   ]
  },
  {
   "cell_type": "code",
   "execution_count": 29,
   "metadata": {},
   "outputs": [
    {
     "data": {
      "text/latex": [
       "$\\displaystyle \\frac{Vi g u}{\\pi r^{2}}$"
      ],
      "text/plain": [
       "Vi*g*u/(pi*r**2)"
      ]
     },
     "execution_count": 29,
     "metadata": {},
     "output_type": "execute_result"
    }
   ],
   "source": [
    "P = u * g * h\n",
    "P"
   ]
  },
  {
   "cell_type": "code",
   "execution_count": 30,
   "metadata": {},
   "outputs": [
    {
     "data": {
      "text/latex": [
       "$\\displaystyle \\frac{Vi g u}{S \\pi r}$"
      ],
      "text/plain": [
       "Vi*g*u/(S*pi*r)"
      ]
     },
     "execution_count": 30,
     "metadata": {},
     "output_type": "execute_result"
    }
   ],
   "source": [
    "t = ( P * r) / S\n",
    "t"
   ]
  },
  {
   "cell_type": "code",
   "execution_count": 31,
   "metadata": {},
   "outputs": [
    {
     "data": {
      "text/latex": [
       "$\\displaystyle \\pi \\left(T + \\frac{Vi}{\\pi r^{2}}\\right) \\left(r + \\frac{Vi g u}{S \\pi r}\\right)^{2}$"
      ],
      "text/plain": [
       "pi*(T + Vi/(pi*r**2))*(r + Vi*g*u/(S*pi*r))**2"
      ]
     },
     "execution_count": 31,
     "metadata": {},
     "output_type": "execute_result"
    }
   ],
   "source": [
    "Vo = pi * (( r + t ) ** 2) * ( h + T)\n",
    "Vo"
   ]
  },
  {
   "cell_type": "code",
   "execution_count": 33,
   "metadata": {},
   "outputs": [
    {
     "data": {
      "text/latex": [
       "$\\displaystyle - \\frac{2 Vi \\left(r + \\frac{Vi g u}{S \\pi r}\\right)^{2}}{r^{3}} + \\pi \\left(2 - \\frac{2 Vi g u}{S \\pi r^{2}}\\right) \\left(T + \\frac{Vi}{\\pi r^{2}}\\right) \\left(r + \\frac{Vi g u}{S \\pi r}\\right)$"
      ],
      "text/plain": [
       "-2*Vi*(r + Vi*g*u/(S*pi*r))**2/r**3 + pi*(2 - 2*Vi*g*u/(S*pi*r**2))*(T + Vi/(pi*r**2))*(r + Vi*g*u/(S*pi*r))"
      ]
     },
     "execution_count": 33,
     "metadata": {},
     "output_type": "execute_result"
    }
   ],
   "source": [
    "Vodiff = sym.diff(Vo, r)\n",
    "Vodiff"
   ]
  },
  {
   "cell_type": "code",
   "execution_count": 35,
   "metadata": {},
   "outputs": [
    {
     "data": {
      "text/plain": [
       "[-sqrt(Vi*(g*u/(2*S) - sqrt(T*g*u*(8*S + T*g*u))/(2*S*T))/pi),\n",
       " sqrt(Vi*(g*u/(2*S) - sqrt(T*g*u*(8*S + T*g*u))/(2*S*T))/pi),\n",
       " -sqrt(Vi*(g*u/(2*S) + sqrt(T*g*u*(8*S + T*g*u))/(2*S*T))/pi),\n",
       " sqrt(Vi*(g*u/(2*S) + sqrt(T*g*u*(8*S + T*g*u))/(2*S*T))/pi),\n",
       " -sqrt(-Vi*g*u/(S*pi)),\n",
       " sqrt(-Vi*g*u/(S*pi))]"
      ]
     },
     "execution_count": 35,
     "metadata": {},
     "output_type": "execute_result"
    }
   ],
   "source": [
    "R = sym.solve(Vodiff, r)\n",
    "R"
   ]
  },
  {
   "cell_type": "code",
   "execution_count": 48,
   "metadata": {},
   "outputs": [],
   "source": [
    "def filler(R, Vi1, g1, u1, S1, T1):\n",
    "    Redious = R.subs(Vi,Vi1).subs(g,g1).subs(u,u1).subs(S,S1).subs(T,T1)\n",
    "    return Redious"
   ]
  },
  {
   "cell_type": "code",
   "execution_count": 49,
   "metadata": {},
   "outputs": [],
   "source": [
    "v = 1000000*159/1000"
   ]
  },
  {
   "cell_type": "code",
   "execution_count": 51,
   "metadata": {},
   "outputs": [
    {
     "data": {
      "text/latex": [
       "$\\displaystyle \\pi \\left(2 + \\frac{159000.0}{\\pi r^{2}}\\right) \\left(r + \\frac{1559790.0}{\\pi r}\\right)^{2}$"
      ],
      "text/plain": [
       "pi*(2 + 159000.0/(pi*r**2))*(r + 1559790.0/(pi*r))**2"
      ]
     },
     "execution_count": 51,
     "metadata": {},
     "output_type": "execute_result"
    }
   ],
   "source": [
    "vo = filler(, v, 9.81, 1 , 1, 2)\n",
    "vo"
   ]
  },
  {
   "cell_type": "code",
   "execution_count": 71,
   "metadata": {},
   "outputs": [
    {
     "data": {
      "text/latex": [
       "$\\displaystyle - 381.364519911644 \\sqrt{- \\frac{1}{\\pi}}$"
      ],
      "text/plain": [
       "-381.364519911644*sqrt(-1/pi)"
      ]
     },
     "execution_count": 71,
     "metadata": {},
     "output_type": "execute_result"
    }
   ],
   "source": [
    "filler(R[0], v, 9.81, 1 , 1, 2)"
   ]
  },
  {
   "cell_type": "code",
   "execution_count": 109,
   "metadata": {},
   "outputs": [
    {
     "data": {
      "text/plain": [
       "500.3749458344354"
      ]
     },
     "execution_count": 109,
     "metadata": {},
     "output_type": "execute_result"
    }
   ],
   "source": [
    "m = filler(R[3], v, 9.81, 1000 , 10000, 0.1).subs(pi,math.pi)\n",
    "float(m)"
   ]
  },
  {
   "cell_type": "code",
   "execution_count": 102,
   "metadata": {},
   "outputs": [
    {
     "data": {
      "text/plain": [
       "0.2021418050299257"
      ]
     },
     "execution_count": 102,
     "metadata": {},
     "output_type": "execute_result"
    }
   ],
   "source": [
    "n = h.subs(r,m).subs(Vi,v).subs(pi,math.pi)\n",
    "float(n)"
   ]
  },
  {
   "cell_type": "code",
   "execution_count": 103,
   "metadata": {},
   "outputs": [
    {
     "data": {
      "text/plain": [
       "159000.00000000003"
      ]
     },
     "execution_count": 103,
     "metadata": {},
     "output_type": "execute_result"
    }
   ],
   "source": [
    "float(math.pi * (m**2) * n)"
   ]
  },
  {
   "cell_type": "code",
   "execution_count": 84,
   "metadata": {},
   "outputs": [
    {
     "data": {
      "text/plain": [
       "159000.0"
      ]
     },
     "execution_count": 84,
     "metadata": {},
     "output_type": "execute_result"
    }
   ],
   "source": [
    "v"
   ]
  },
  {
   "cell_type": "code",
   "execution_count": 64,
   "metadata": {},
   "outputs": [],
   "source": [
    "rs = np.linspace(1,100,1000)\n",
    "import math\n",
    "df = pd.DataFrame({'Rs':rs})\n",
    "df['V'] = df['Rs'].apply(lambda x:vo.subs(r,x).subs(pi,math.pi))"
   ]
  },
  {
   "cell_type": "code",
   "execution_count": 65,
   "metadata": {},
   "outputs": [],
   "source": [
    "import numpy as np\n",
    "import pandas as pd\n"
   ]
  },
  {
   "cell_type": "code",
   "execution_count": 66,
   "metadata": {},
   "outputs": [
    {
     "data": {
      "text/html": [
       "<div>\n",
       "<style scoped>\n",
       "    .dataframe tbody tr th:only-of-type {\n",
       "        vertical-align: middle;\n",
       "    }\n",
       "\n",
       "    .dataframe tbody tr th {\n",
       "        vertical-align: top;\n",
       "    }\n",
       "\n",
       "    .dataframe thead th {\n",
       "        text-align: right;\n",
       "    }\n",
       "</style>\n",
       "<table border=\"1\" class=\"dataframe\">\n",
       "  <thead>\n",
       "    <tr style=\"text-align: right;\">\n",
       "      <th></th>\n",
       "      <th>Rs</th>\n",
       "      <th>V</th>\n",
       "    </tr>\n",
       "  </thead>\n",
       "  <tbody>\n",
       "    <tr>\n",
       "      <th>0</th>\n",
       "      <td>1.000000</td>\n",
       "      <td>3.91966141162795e+16</td>\n",
       "    </tr>\n",
       "    <tr>\n",
       "      <th>1</th>\n",
       "      <td>1.099099</td>\n",
       "      <td>2.68599425611757e+16</td>\n",
       "    </tr>\n",
       "    <tr>\n",
       "      <th>2</th>\n",
       "      <td>1.198198</td>\n",
       "      <td>1.90170060042165e+16</td>\n",
       "    </tr>\n",
       "    <tr>\n",
       "      <th>3</th>\n",
       "      <td>1.297297</td>\n",
       "      <td>1.38389587764290e+16</td>\n",
       "    </tr>\n",
       "    <tr>\n",
       "      <th>4</th>\n",
       "      <td>1.396396</td>\n",
       "      <td>1.03093584320255e+16</td>\n",
       "    </tr>\n",
       "  </tbody>\n",
       "</table>\n",
       "</div>"
      ],
      "text/plain": [
       "         Rs                     V\n",
       "0  1.000000  3.91966141162795e+16\n",
       "1  1.099099  2.68599425611757e+16\n",
       "2  1.198198  1.90170060042165e+16\n",
       "3  1.297297  1.38389587764290e+16\n",
       "4  1.396396  1.03093584320255e+16"
      ]
     },
     "execution_count": 66,
     "metadata": {},
     "output_type": "execute_result"
    }
   ],
   "source": [
    "df.head()"
   ]
  },
  {
   "cell_type": "code",
   "execution_count": 67,
   "metadata": {},
   "outputs": [],
   "source": [
    "import matplotlib.pyplot as plt\n",
    "%matplotlib inline"
   ]
  },
  {
   "cell_type": "code",
   "execution_count": 68,
   "metadata": {},
   "outputs": [
    {
     "data": {
      "text/plain": [
       "<matplotlib.collections.PathCollection at 0x1360d430>"
      ]
     },
     "execution_count": 68,
     "metadata": {},
     "output_type": "execute_result"
    },
    {
     "data": {
      "image/png": "[encoded data removed]",
      "text/plain": [
       "<Figure size 432x288 with 1 Axes>"
      ]
     },
     "metadata": {
      "needs_background": "light"
     },
     "output_type": "display_data"
    }
   ],
   "source": [
    "plt.scatter(df['Rs'],df['V'])"
   ]
  },
  {
   "cell_type": "code",
   "execution_count": 69,
   "metadata": {},
   "outputs": [
    {
     "data": {
      "text/plain": [
       "Rs    1.000000e+00\n",
       "V     5.690847e+08\n",
       "dtype: float64"
      ]
     },
     "execution_count": 69,
     "metadata": {},
     "output_type": "execute_result"
    }
   ],
   "source": [
    "df[.min()"
   ]
  },
  {
   "cell_type": "code",
   "execution_count": 70,
   "metadata": {},
   "outputs": [
    {
     "data": {
      "text/html": [
       "<div>\n",
       "<style scoped>\n",
       "    .dataframe tbody tr th:only-of-type {\n",
       "        vertical-align: middle;\n",
       "    }\n",
       "\n",
       "    .dataframe tbody tr th {\n",
       "        vertical-align: top;\n",
       "    }\n",
       "\n",
       "    .dataframe thead th {\n",
       "        text-align: right;\n",
       "    }\n",
       "</style>\n",
       "<table border=\"1\" class=\"dataframe\">\n",
       "  <thead>\n",
       "    <tr style=\"text-align: right;\">\n",
       "      <th></th>\n",
       "      <th>Rs</th>\n",
       "      <th>V</th>\n",
       "    </tr>\n",
       "  </thead>\n",
       "  <tbody>\n",
       "    <tr>\n",
       "      <th>0</th>\n",
       "      <td>1.000000</td>\n",
       "      <td>3.91966141162795e+16</td>\n",
       "    </tr>\n",
       "    <tr>\n",
       "      <th>1</th>\n",
       "      <td>1.099099</td>\n",
       "      <td>2.68599425611757e+16</td>\n",
       "    </tr>\n",
       "    <tr>\n",
       "      <th>2</th>\n",
       "      <td>1.198198</td>\n",
       "      <td>1.90170060042165e+16</td>\n",
       "    </tr>\n",
       "    <tr>\n",
       "      <th>3</th>\n",
       "      <td>1.297297</td>\n",
       "      <td>1.38389587764290e+16</td>\n",
       "    </tr>\n",
       "    <tr>\n",
       "      <th>4</th>\n",
       "      <td>1.396396</td>\n",
       "      <td>1.03093584320255e+16</td>\n",
       "    </tr>\n",
       "    <tr>\n",
       "      <th>5</th>\n",
       "      <td>1.495495</td>\n",
       "      <td>7.83666891663819e+15</td>\n",
       "    </tr>\n",
       "    <tr>\n",
       "      <th>6</th>\n",
       "      <td>1.594595</td>\n",
       "      <td>6.06284655040431e+15</td>\n",
       "    </tr>\n",
       "    <tr>\n",
       "      <th>7</th>\n",
       "      <td>1.693694</td>\n",
       "      <td>4.76370003737891e+15</td>\n",
       "    </tr>\n",
       "    <tr>\n",
       "      <th>8</th>\n",
       "      <td>1.792793</td>\n",
       "      <td>3.79463520479301e+15</td>\n",
       "    </tr>\n",
       "    <tr>\n",
       "      <th>9</th>\n",
       "      <td>1.891892</td>\n",
       "      <td>3.05993402581705e+15</td>\n",
       "    </tr>\n",
       "    <tr>\n",
       "      <th>10</th>\n",
       "      <td>1.990991</td>\n",
       "      <td>2.49475225029811e+15</td>\n",
       "    </tr>\n",
       "    <tr>\n",
       "      <th>11</th>\n",
       "      <td>2.090090</td>\n",
       "      <td>2.05424493780305e+15</td>\n",
       "    </tr>\n",
       "    <tr>\n",
       "      <th>12</th>\n",
       "      <td>2.189189</td>\n",
       "      <td>1.70681750808290e+15</td>\n",
       "    </tr>\n",
       "    <tr>\n",
       "      <th>13</th>\n",
       "      <td>2.288288</td>\n",
       "      <td>1.42983428578774e+15</td>\n",
       "    </tr>\n",
       "    <tr>\n",
       "      <th>14</th>\n",
       "      <td>2.387387</td>\n",
       "      <td>1.20682927997765e+15</td>\n",
       "    </tr>\n",
       "    <tr>\n",
       "      <th>15</th>\n",
       "      <td>2.486486</td>\n",
       "      <td>1.02565697574363e+15</td>\n",
       "    </tr>\n",
       "    <tr>\n",
       "      <th>16</th>\n",
       "      <td>2.585586</td>\n",
       "      <td>877243952177217.</td>\n",
       "    </tr>\n",
       "    <tr>\n",
       "      <th>17</th>\n",
       "      <td>2.684685</td>\n",
       "      <td>754732041546088.</td>\n",
       "    </tr>\n",
       "    <tr>\n",
       "      <th>18</th>\n",
       "      <td>2.783784</td>\n",
       "      <td>652881213890772.</td>\n",
       "    </tr>\n",
       "    <tr>\n",
       "      <th>19</th>\n",
       "      <td>2.882883</td>\n",
       "      <td>567647583766975.</td>\n",
       "    </tr>\n",
       "    <tr>\n",
       "      <th>20</th>\n",
       "      <td>2.981982</td>\n",
       "      <td>495881287029738.</td>\n",
       "    </tr>\n",
       "    <tr>\n",
       "      <th>21</th>\n",
       "      <td>3.081081</td>\n",
       "      <td>435107560407267.</td>\n",
       "    </tr>\n",
       "    <tr>\n",
       "      <th>22</th>\n",
       "      <td>3.180180</td>\n",
       "      <td>383366325652688.</td>\n",
       "    </tr>\n",
       "    <tr>\n",
       "      <th>23</th>\n",
       "      <td>3.279279</td>\n",
       "      <td>339093410627772.</td>\n",
       "    </tr>\n",
       "    <tr>\n",
       "      <th>24</th>\n",
       "      <td>3.378378</td>\n",
       "      <td>301031738242956.</td>\n",
       "    </tr>\n",
       "    <tr>\n",
       "      <th>25</th>\n",
       "      <td>3.477477</td>\n",
       "      <td>268164312853622.</td>\n",
       "    </tr>\n",
       "    <tr>\n",
       "      <th>26</th>\n",
       "      <td>3.576577</td>\n",
       "      <td>239663218592893.</td>\n",
       "    </tr>\n",
       "    <tr>\n",
       "      <th>27</th>\n",
       "      <td>3.675676</td>\n",
       "      <td>214850489339988.</td>\n",
       "    </tr>\n",
       "    <tr>\n",
       "      <th>28</th>\n",
       "      <td>3.774775</td>\n",
       "      <td>193167857801272.</td>\n",
       "    </tr>\n",
       "    <tr>\n",
       "      <th>29</th>\n",
       "      <td>3.873874</td>\n",
       "      <td>174153200428187.</td>\n",
       "    </tr>\n",
       "    <tr>\n",
       "      <th>...</th>\n",
       "      <td>...</td>\n",
       "      <td>...</td>\n",
       "    </tr>\n",
       "    <tr>\n",
       "      <th>970</th>\n",
       "      <td>97.126126</td>\n",
       "      <td>627820347.743567</td>\n",
       "    </tr>\n",
       "    <tr>\n",
       "      <th>971</th>\n",
       "      <td>97.225225</td>\n",
       "      <td>625658867.967640</td>\n",
       "    </tr>\n",
       "    <tr>\n",
       "      <th>972</th>\n",
       "      <td>97.324324</td>\n",
       "      <td>623507628.187718</td>\n",
       "    </tr>\n",
       "    <tr>\n",
       "      <th>973</th>\n",
       "      <td>97.423423</td>\n",
       "      <td>621366568.284706</td>\n",
       "    </tr>\n",
       "    <tr>\n",
       "      <th>974</th>\n",
       "      <td>97.522523</td>\n",
       "      <td>619235628.557227</td>\n",
       "    </tr>\n",
       "    <tr>\n",
       "      <th>975</th>\n",
       "      <td>97.621622</td>\n",
       "      <td>617114749.718286</td>\n",
       "    </tr>\n",
       "    <tr>\n",
       "      <th>976</th>\n",
       "      <td>97.720721</td>\n",
       "      <td>615003872.891959</td>\n",
       "    </tr>\n",
       "    <tr>\n",
       "      <th>977</th>\n",
       "      <td>97.819820</td>\n",
       "      <td>612902939.610112</td>\n",
       "    </tr>\n",
       "    <tr>\n",
       "      <th>978</th>\n",
       "      <td>97.918919</td>\n",
       "      <td>610811891.809150</td>\n",
       "    </tr>\n",
       "    <tr>\n",
       "      <th>979</th>\n",
       "      <td>98.018018</td>\n",
       "      <td>608730671.826797</td>\n",
       "    </tr>\n",
       "    <tr>\n",
       "      <th>980</th>\n",
       "      <td>98.117117</td>\n",
       "      <td>606659222.398905</td>\n",
       "    </tr>\n",
       "    <tr>\n",
       "      <th>981</th>\n",
       "      <td>98.216216</td>\n",
       "      <td>604597486.656284</td>\n",
       "    </tr>\n",
       "    <tr>\n",
       "      <th>982</th>\n",
       "      <td>98.315315</td>\n",
       "      <td>602545408.121575</td>\n",
       "    </tr>\n",
       "    <tr>\n",
       "      <th>983</th>\n",
       "      <td>98.414414</td>\n",
       "      <td>600502930.706136</td>\n",
       "    </tr>\n",
       "    <tr>\n",
       "      <th>984</th>\n",
       "      <td>98.513514</td>\n",
       "      <td>598469998.706965</td>\n",
       "    </tr>\n",
       "    <tr>\n",
       "      <th>985</th>\n",
       "      <td>98.612613</td>\n",
       "      <td>596446556.803651</td>\n",
       "    </tr>\n",
       "    <tr>\n",
       "      <th>986</th>\n",
       "      <td>98.711712</td>\n",
       "      <td>594432550.055343</td>\n",
       "    </tr>\n",
       "    <tr>\n",
       "      <th>987</th>\n",
       "      <td>98.810811</td>\n",
       "      <td>592427923.897759</td>\n",
       "    </tr>\n",
       "    <tr>\n",
       "      <th>988</th>\n",
       "      <td>98.909910</td>\n",
       "      <td>590432624.140210</td>\n",
       "    </tr>\n",
       "    <tr>\n",
       "      <th>989</th>\n",
       "      <td>99.009009</td>\n",
       "      <td>588446596.962659</td>\n",
       "    </tr>\n",
       "    <tr>\n",
       "      <th>990</th>\n",
       "      <td>99.108108</td>\n",
       "      <td>586469788.912799</td>\n",
       "    </tr>\n",
       "    <tr>\n",
       "      <th>991</th>\n",
       "      <td>99.207207</td>\n",
       "      <td>584502146.903166</td>\n",
       "    </tr>\n",
       "    <tr>\n",
       "      <th>992</th>\n",
       "      <td>99.306306</td>\n",
       "      <td>582543618.208268</td>\n",
       "    </tr>\n",
       "    <tr>\n",
       "      <th>993</th>\n",
       "      <td>99.405405</td>\n",
       "      <td>580594150.461746</td>\n",
       "    </tr>\n",
       "    <tr>\n",
       "      <th>994</th>\n",
       "      <td>99.504505</td>\n",
       "      <td>578653691.653555</td>\n",
       "    </tr>\n",
       "    <tr>\n",
       "      <th>995</th>\n",
       "      <td>99.603604</td>\n",
       "      <td>576722190.127180</td>\n",
       "    </tr>\n",
       "    <tr>\n",
       "      <th>996</th>\n",
       "      <td>99.702703</td>\n",
       "      <td>574799594.576859</td>\n",
       "    </tr>\n",
       "    <tr>\n",
       "      <th>997</th>\n",
       "      <td>99.801802</td>\n",
       "      <td>572885854.044851</td>\n",
       "    </tr>\n",
       "    <tr>\n",
       "      <th>998</th>\n",
       "      <td>99.900901</td>\n",
       "      <td>570980917.918713</td>\n",
       "    </tr>\n",
       "    <tr>\n",
       "      <th>999</th>\n",
       "      <td>100.000000</td>\n",
       "      <td>569084735.928608</td>\n",
       "    </tr>\n",
       "  </tbody>\n",
       "</table>\n",
       "<p>1000 rows × 2 columns</p>\n",
       "</div>"
      ],
      "text/plain": [
       "             Rs                     V\n",
       "0      1.000000  3.91966141162795e+16\n",
       "1      1.099099  2.68599425611757e+16\n",
       "2      1.198198  1.90170060042165e+16\n",
       "3      1.297297  1.38389587764290e+16\n",
       "4      1.396396  1.03093584320255e+16\n",
       "5      1.495495  7.83666891663819e+15\n",
       "6      1.594595  6.06284655040431e+15\n",
       "7      1.693694  4.76370003737891e+15\n",
       "8      1.792793  3.79463520479301e+15\n",
       "9      1.891892  3.05993402581705e+15\n",
       "10     1.990991  2.49475225029811e+15\n",
       "11     2.090090  2.05424493780305e+15\n",
       "12     2.189189  1.70681750808290e+15\n",
       "13     2.288288  1.42983428578774e+15\n",
       "14     2.387387  1.20682927997765e+15\n",
       "15     2.486486  1.02565697574363e+15\n",
       "16     2.585586      877243952177217.\n",
       "17     2.684685      754732041546088.\n",
       "18     2.783784      652881213890772.\n",
       "19     2.882883      567647583766975.\n",
       "20     2.981982      495881287029738.\n",
       "21     3.081081      435107560407267.\n",
       "22     3.180180      383366325652688.\n",
       "23     3.279279      339093410627772.\n",
       "24     3.378378      301031738242956.\n",
       "25     3.477477      268164312853622.\n",
       "26     3.576577      239663218592893.\n",
       "27     3.675676      214850489339988.\n",
       "28     3.774775      193167857801272.\n",
       "29     3.873874      174153200428187.\n",
       "..          ...                   ...\n",
       "970   97.126126      627820347.743567\n",
       "971   97.225225      625658867.967640\n",
       "972   97.324324      623507628.187718\n",
       "973   97.423423      621366568.284706\n",
       "974   97.522523      619235628.557227\n",
       "975   97.621622      617114749.718286\n",
       "976   97.720721      615003872.891959\n",
       "977   97.819820      612902939.610112\n",
       "978   97.918919      610811891.809150\n",
       "979   98.018018      608730671.826797\n",
       "980   98.117117      606659222.398905\n",
       "981   98.216216      604597486.656284\n",
       "982   98.315315      602545408.121575\n",
       "983   98.414414      600502930.706136\n",
       "984   98.513514      598469998.706965\n",
       "985   98.612613      596446556.803651\n",
       "986   98.711712      594432550.055343\n",
       "987   98.810811      592427923.897759\n",
       "988   98.909910      590432624.140210\n",
       "989   99.009009      588446596.962659\n",
       "990   99.108108      586469788.912799\n",
       "991   99.207207      584502146.903166\n",
       "992   99.306306      582543618.208268\n",
       "993   99.405405      580594150.461746\n",
       "994   99.504505      578653691.653555\n",
       "995   99.603604      576722190.127180\n",
       "996   99.702703      574799594.576859\n",
       "997   99.801802      572885854.044851\n",
       "998   99.900901      570980917.918713\n",
       "999  100.000000      569084735.928608\n",
       "\n",
       "[1000 rows x 2 columns]"
      ]
     },
     "execution_count": 70,
     "metadata": {},
     "output_type": "execute_result"
    }
   ],
   "source": [
    "df"
   ]
  },
  {
   "cell_type": "code",
   "execution_count": null,
   "metadata": {},
   "outputs": [],
   "source": []
  }
 ],
 "metadata": {
  "kernelspec": {
   "display_name": "Python 3",
   "language": "python",
   "name": "python3"
  },
  "language_info": {
   "codemirror_mode": {
    "name": "ipython",
    "version": 3
   },
   "file_extension": ".py",
   "mimetype": "text/x-python",
   "name": "python",
   "nbconvert_exporter": "python",
   "pygments_lexer": "ipython3",
   "version": "3.7.3"
  }
 },
 "nbformat": 4,
 "nbformat_minor": 2
}

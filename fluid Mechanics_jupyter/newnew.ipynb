{
 "cells": [
  {
   "cell_type": "code",
   "execution_count": 1,
   "metadata": {},
   "outputs": [],
   "source": [
    "import math\n",
    "import sympy as sym\n",
    "import numpy as np\n",
    "import pandas as pd\n",
    "import matplotlib.pyplot as plt\n",
    "%matplotlib inline"
   ]
  },
  {
   "cell_type": "code",
   "execution_count": 14,
   "metadata": {},
   "outputs": [],
   "source": [
    "def best_r_finder(V, ro_fluid, ro_mat, F, Z):\n",
    "    r = sym.Symbol('r')\n",
    "    f = sym.Symbol('f')\n",
    "    z = sym.Symbol('z')\n",
    "    v = sym.Symbol('v')\n",
    "    g = 9.815\n",
    "    p = math.pi\n",
    "    \n",
    "    h = v / (p * (r ** 2))\n",
    "    A_w = 2 * p * r * h\n",
    "    A_f = p * (r ** 2)\n",
    "    \n",
    "    P = ro_fluid * g * h\n",
    "    d =(2*P*r)/(2*z*f + P) * (1 - (2 * P) / (2 * z * f + P)) ** (-1)\n",
    "    W = ro_mat * (d * 2 * p * r * h + d * p * (r ** 2))\n",
    "    \n",
    "    dWdr = sym.diff(W,r)\n",
    "    result = list(sym.solveset(dWdr.subs(f,F).subs(z,Z).subs(v,V), r))\n",
    "    return result"
   ]
  },
  {
   "cell_type": "code",
   "execution_count": 15,
   "metadata": {},
   "outputs": [
    {
     "data": {
      "text/plain": [
       "[-25618.9534077307,\n",
       " -0.000424278427821145,\n",
       " 25618.9537161223,\n",
       " 5.79434211042302e-5 - 0.000214034686833935*I,\n",
       " 5.79434211042302e-5 + 0.000214034686833935*I]"
      ]
     },
     "execution_count": 15,
     "metadata": {},
     "output_type": "execute_result"
    }
   ],
   "source": [
    "best_r_finder(158970,881,2240,1,1)"
   ]
  },
  {
   "cell_type": "code",
   "execution_count": null,
   "metadata": {},
   "outputs": [],
   "source": []
  }
 ],
 "metadata": {
  "kernelspec": {
   "display_name": "Python 3",
   "language": "python",
   "name": "python3"
  },
  "language_info": {
   "codemirror_mode": {
    "name": "ipython",
    "version": 3
   },
   "file_extension": ".py",
   "mimetype": "text/x-python",
   "name": "python",
   "nbconvert_exporter": "python",
   "pygments_lexer": "ipython3",
   "version": "3.7.3"
  }
 },
 "nbformat": 4,
 "nbformat_minor": 2
}
